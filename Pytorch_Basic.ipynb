{
  "nbformat": 4,
  "nbformat_minor": 0,
  "metadata": {
    "colab": {
      "name": "Pytorch_Basic.ipynb",
      "provenance": [],
      "collapsed_sections": []
    },
    "kernelspec": {
      "name": "python3",
      "display_name": "Python 3"
    },
    "accelerator": "GPU"
  },
  "cells": [
    {
      "cell_type": "markdown",
      "metadata": {
        "id": "U97dUt7NzcI-"
      },
      "source": [
        "Edit Date: 11/14/2021"
      ]
    },
    {
      "cell_type": "code",
      "metadata": {
        "id": "Zp4fJCqnx05O"
      },
      "source": [
        "import torch\n",
        "import torch as nn\n",
        "import torch.nn.functional as F\n",
        "import numpy as np"
      ],
      "execution_count": 1,
      "outputs": []
    },
    {
      "cell_type": "markdown",
      "metadata": {
        "id": "yx3z9ujNPM_H"
      },
      "source": [
        "**Tensor**\n",
        "\n",
        "Tensor is a multi-dimensional matrix containing elements of a single data type."
      ]
    },
    {
      "cell_type": "code",
      "metadata": {
        "id": "wnDli5euzdw-",
        "colab": {
          "base_uri": "https://localhost:8080/"
        },
        "outputId": "9c1d54d8-cade-4480-d33f-80acd7624864"
      },
      "source": [
        "# Create tensor \n",
        "x = torch.tensor([[1.0, 4.0], [2.0, 1.0], [3.0, 5.0]])\n",
        "print(x)"
      ],
      "execution_count": 2,
      "outputs": [
        {
          "output_type": "stream",
          "name": "stdout",
          "text": [
            "tensor([[1., 4.],\n",
            "        [2., 1.],\n",
            "        [3., 5.]])\n"
          ]
        }
      ]
    },
    {
      "cell_type": "code",
      "metadata": {
        "id": "CE7xCpNL1dHN",
        "colab": {
          "base_uri": "https://localhost:8080/"
        },
        "outputId": "628e9866-0279-4a0c-881e-44bbe5ce0f86"
      },
      "source": [
        "# Check the first element of tensor\n",
        "x[0]"
      ],
      "execution_count": 3,
      "outputs": [
        {
          "output_type": "execute_result",
          "data": {
            "text/plain": [
              "tensor([1., 4.])"
            ]
          },
          "metadata": {},
          "execution_count": 3
        }
      ]
    },
    {
      "cell_type": "code",
      "metadata": {
        "id": "MKwjy652z4CR",
        "colab": {
          "base_uri": "https://localhost:8080/"
        },
        "outputId": "38754f43-7af5-449a-948c-2a7b244b59e8"
      },
      "source": [
        "# Create tensor with 32-bit floating point\n",
        "x = torch.FloatTensor([[1.0, 4.0], [2.0, 1.0], [3.0, 5.0]])\n",
        "x"
      ],
      "execution_count": 4,
      "outputs": [
        {
          "output_type": "execute_result",
          "data": {
            "text/plain": [
              "tensor([[1., 4.],\n",
              "        [2., 1.],\n",
              "        [3., 5.]])"
            ]
          },
          "metadata": {},
          "execution_count": 4
        }
      ]
    },
    {
      "cell_type": "code",
      "metadata": {
        "id": "00hNE3GGd8-3",
        "colab": {
          "base_uri": "https://localhost:8080/"
        },
        "outputId": "b46e942e-95c9-4f64-f887-68a1cdaf945e"
      },
      "source": [
        "# Check tensor type\n",
        "x.type"
      ],
      "execution_count": 5,
      "outputs": [
        {
          "output_type": "execute_result",
          "data": {
            "text/plain": [
              "<function Tensor.type>"
            ]
          },
          "metadata": {},
          "execution_count": 5
        }
      ]
    },
    {
      "cell_type": "code",
      "metadata": {
        "id": "_KPcvlLZzoH5",
        "colab": {
          "base_uri": "https://localhost:8080/"
        },
        "outputId": "b469fb60-4aa3-4a56-8c72-e1b6f01b0abe"
      },
      "source": [
        "# Check tensor shape\n",
        "print(x.shape)\n",
        "print(x.size())"
      ],
      "execution_count": 6,
      "outputs": [
        {
          "output_type": "stream",
          "name": "stdout",
          "text": [
            "torch.Size([3, 2])\n",
            "torch.Size([3, 2])\n"
          ]
        }
      ]
    },
    {
      "cell_type": "code",
      "metadata": {
        "id": "1NyombDK08xd",
        "colab": {
          "base_uri": "https://localhost:8080/"
        },
        "outputId": "c44398ac-5c16-446e-8c52-74b36fd698dc"
      },
      "source": [
        "x.storage()"
      ],
      "execution_count": 7,
      "outputs": [
        {
          "output_type": "execute_result",
          "data": {
            "text/plain": [
              " 1.0\n",
              " 4.0\n",
              " 2.0\n",
              " 1.0\n",
              " 3.0\n",
              " 5.0\n",
              "[torch.FloatStorage of size 6]"
            ]
          },
          "metadata": {},
          "execution_count": 7
        }
      ]
    },
    {
      "cell_type": "code",
      "metadata": {
        "id": "2O9NQN8Y1qnx",
        "colab": {
          "base_uri": "https://localhost:8080/"
        },
        "outputId": "c50b58f9-8208-4ad4-b610-2117d056e5d1"
      },
      "source": [
        "x = torch.FloatTensor([[1.0, 4.0], [2.0, 1.0], [3.0, 5.0]])\n",
        "x_storage = x.storage()\n",
        "x_storage[1] = 2.0\n",
        "x"
      ],
      "execution_count": 8,
      "outputs": [
        {
          "output_type": "execute_result",
          "data": {
            "text/plain": [
              "tensor([[1., 2.],\n",
              "        [2., 1.],\n",
              "        [3., 5.]])"
            ]
          },
          "metadata": {},
          "execution_count": 8
        }
      ]
    },
    {
      "cell_type": "code",
      "metadata": {
        "id": "BMVbMomTed58",
        "colab": {
          "base_uri": "https://localhost:8080/"
        },
        "outputId": "ff9439e3-768d-4c18-d582-b23d428c21e7"
      },
      "source": [
        "# Resize\n",
        "x.view(6)"
      ],
      "execution_count": 9,
      "outputs": [
        {
          "output_type": "execute_result",
          "data": {
            "text/plain": [
              "tensor([1., 2., 2., 1., 3., 5.])"
            ]
          },
          "metadata": {},
          "execution_count": 9
        }
      ]
    },
    {
      "cell_type": "code",
      "metadata": {
        "id": "0VQOWThBe0gH",
        "colab": {
          "base_uri": "https://localhost:8080/"
        },
        "outputId": "a516753e-779b-4482-f810-965d3f8d02aa"
      },
      "source": [
        "# Resize\n",
        "x.view(2,3)"
      ],
      "execution_count": 10,
      "outputs": [
        {
          "output_type": "execute_result",
          "data": {
            "text/plain": [
              "tensor([[1., 2., 2.],\n",
              "        [1., 3., 5.]])"
            ]
          },
          "metadata": {},
          "execution_count": 10
        }
      ]
    },
    {
      "cell_type": "markdown",
      "metadata": {
        "id": "82_UcJMBgvBL"
      },
      "source": [
        "**Basic Math**\n",
        "\n",
        "Add, substraction,multiplication, mean, and standard deviation"
      ]
    },
    {
      "cell_type": "code",
      "metadata": {
        "id": "nXB99JH5fFLE",
        "colab": {
          "base_uri": "https://localhost:8080/"
        },
        "outputId": "bd9f635c-e4ac-4581-df41-946cd9ff239b"
      },
      "source": [
        "# Add\n",
        "torch.add(x,x)"
      ],
      "execution_count": 11,
      "outputs": [
        {
          "output_type": "execute_result",
          "data": {
            "text/plain": [
              "tensor([[ 2.,  4.],\n",
              "        [ 4.,  2.],\n",
              "        [ 6., 10.]])"
            ]
          },
          "metadata": {},
          "execution_count": 11
        }
      ]
    },
    {
      "cell_type": "code",
      "metadata": {
        "id": "NoljKnDmfRTA",
        "colab": {
          "base_uri": "https://localhost:8080/"
        },
        "outputId": "9a5bb5ea-787b-43fe-cac9-ef172c209002"
      },
      "source": [
        "# Substraction\n",
        "torch.sub(x,2)"
      ],
      "execution_count": 12,
      "outputs": [
        {
          "output_type": "execute_result",
          "data": {
            "text/plain": [
              "tensor([[-1.,  0.],\n",
              "        [ 0., -1.],\n",
              "        [ 1.,  3.]])"
            ]
          },
          "metadata": {},
          "execution_count": 12
        }
      ]
    },
    {
      "cell_type": "code",
      "metadata": {
        "id": "a3FNcOYefbWR",
        "colab": {
          "base_uri": "https://localhost:8080/"
        },
        "outputId": "1159744d-96e6-4606-d5aa-9f0158d2f257"
      },
      "source": [
        "# Multiplication\n",
        "torch.mul(x,3)"
      ],
      "execution_count": 13,
      "outputs": [
        {
          "output_type": "execute_result",
          "data": {
            "text/plain": [
              "tensor([[ 3.,  6.],\n",
              "        [ 6.,  3.],\n",
              "        [ 9., 15.]])"
            ]
          },
          "metadata": {},
          "execution_count": 13
        }
      ]
    },
    {
      "cell_type": "code",
      "metadata": {
        "id": "6H7-yDKSfgj0",
        "colab": {
          "base_uri": "https://localhost:8080/"
        },
        "outputId": "8c179d46-2bbd-410d-deb2-47abe42535d0"
      },
      "source": [
        "# Division\n",
        "torch.div(x,2)"
      ],
      "execution_count": 14,
      "outputs": [
        {
          "output_type": "execute_result",
          "data": {
            "text/plain": [
              "tensor([[0.5000, 1.0000],\n",
              "        [1.0000, 0.5000],\n",
              "        [1.5000, 2.5000]])"
            ]
          },
          "metadata": {},
          "execution_count": 14
        }
      ]
    },
    {
      "cell_type": "code",
      "metadata": {
        "id": "MbXBEqv2gile",
        "colab": {
          "base_uri": "https://localhost:8080/"
        },
        "outputId": "e5222df9-5d1a-4d0e-da72-41f028e0cfe6"
      },
      "source": [
        "# Mean\n",
        "torch.mean(x)"
      ],
      "execution_count": 15,
      "outputs": [
        {
          "output_type": "execute_result",
          "data": {
            "text/plain": [
              "tensor(2.3333)"
            ]
          },
          "metadata": {},
          "execution_count": 15
        }
      ]
    },
    {
      "cell_type": "code",
      "metadata": {
        "id": "CU4QI_A0g1hR",
        "colab": {
          "base_uri": "https://localhost:8080/"
        },
        "outputId": "a50547fd-50ed-4783-8659-5d3c7f2696a9"
      },
      "source": [
        "# Standard deviation\n",
        "torch.std(x)"
      ],
      "execution_count": 16,
      "outputs": [
        {
          "output_type": "execute_result",
          "data": {
            "text/plain": [
              "tensor(1.5055)"
            ]
          },
          "metadata": {},
          "execution_count": 16
        }
      ]
    },
    {
      "cell_type": "markdown",
      "metadata": {
        "id": "vUEd6QW7Pxng"
      },
      "source": [
        "**Random Number**"
      ]
    },
    {
      "cell_type": "code",
      "metadata": {
        "id": "6eK6Gn1BP4U0",
        "colab": {
          "base_uri": "https://localhost:8080/"
        },
        "outputId": "adb90431-bab1-4286-ca24-2bc015eb6e62"
      },
      "source": [
        "# Create random number\n",
        "x=torch.rand(5)\n",
        "x"
      ],
      "execution_count": 17,
      "outputs": [
        {
          "output_type": "execute_result",
          "data": {
            "text/plain": [
              "tensor([0.2599, 0.2174, 0.7679, 0.6186, 0.8832])"
            ]
          },
          "metadata": {},
          "execution_count": 17
        }
      ]
    },
    {
      "cell_type": "code",
      "metadata": {
        "id": "Kys1J_qPwR6z",
        "colab": {
          "base_uri": "https://localhost:8080/"
        },
        "outputId": "01440827-8403-4873-f082-371b0e6774e3"
      },
      "source": [
        "x=torch.rand(5,3)\n",
        "x"
      ],
      "execution_count": 18,
      "outputs": [
        {
          "output_type": "execute_result",
          "data": {
            "text/plain": [
              "tensor([[0.2637, 0.9659, 0.3840],\n",
              "        [0.2464, 0.3271, 0.8142],\n",
              "        [0.8217, 0.7599, 0.2721],\n",
              "        [0.8222, 0.0308, 0.7581],\n",
              "        [0.9836, 0.4875, 0.6251]])"
            ]
          },
          "metadata": {},
          "execution_count": 18
        }
      ]
    },
    {
      "cell_type": "markdown",
      "metadata": {
        "id": "vE0mpkF32SZW"
      },
      "source": [
        "**Matrix multiplication**"
      ]
    },
    {
      "cell_type": "code",
      "metadata": {
        "colab": {
          "base_uri": "https://localhost:8080/"
        },
        "id": "xRkjQ6Jc2VY-",
        "outputId": "a9b0bab5-13f6-48b5-90a3-dd7583f85c2b"
      },
      "source": [
        "data = [[1,2], [3,4]]\n",
        "print(np.matmul(data, data)) \n",
        "\n",
        "tensor = torch.FloatTensor(data)  # 32-bit floating point\n",
        "print( torch.mm(tensor, tensor))"
      ],
      "execution_count": 19,
      "outputs": [
        {
          "output_type": "stream",
          "name": "stdout",
          "text": [
            "[[ 7 10]\n",
            " [15 22]]\n",
            "tensor([[ 7., 10.],\n",
            "        [15., 22.]])\n"
          ]
        }
      ]
    },
    {
      "cell_type": "markdown",
      "metadata": {
        "id": "v5X_5tKc08fL"
      },
      "source": [
        "**Convert tensor and Numpy array**"
      ]
    },
    {
      "cell_type": "code",
      "metadata": {
        "colab": {
          "base_uri": "https://localhost:8080/"
        },
        "id": "OzvuxmZq1A6z",
        "outputId": "4a5490a6-4da7-4754-eb96-71370517d698"
      },
      "source": [
        "# Create a numpy array\n",
        "np_data = np.arange(6).reshape((2, 3))\n",
        "print(np_data)\n",
        "\n",
        "\n",
        "# convert numpy to tensor or vise versa\n",
        "torch_data = torch.from_numpy(np_data)\n",
        "print(torch_data)\n",
        "\n",
        "tensor2array = torch_data.numpy()\n",
        "print(tensor2array)"
      ],
      "execution_count": 20,
      "outputs": [
        {
          "output_type": "stream",
          "name": "stdout",
          "text": [
            "[[0 1 2]\n",
            " [3 4 5]]\n",
            "tensor([[0, 1, 2],\n",
            "        [3, 4, 5]])\n",
            "[[0 1 2]\n",
            " [3 4 5]]\n"
          ]
        }
      ]
    },
    {
      "cell_type": "markdown",
      "metadata": {
        "id": "tLVKJoPMQcXX"
      },
      "source": [
        "** Build Neural Network**"
      ]
    },
    {
      "cell_type": "code",
      "metadata": {
        "id": "RoCuxnqmQgLr"
      },
      "source": [
        "import torch\n",
        "import torch as nn"
      ],
      "execution_count": 21,
      "outputs": []
    },
    {
      "cell_type": "code",
      "metadata": {
        "id": "8681yxg8QmbD"
      },
      "source": [
        "# Defining input size, number of neuron, output size and batch size respectively\n",
        "n_in, n_h, n_out, batch_size = 10, 5, 1, 10"
      ],
      "execution_count": 22,
      "outputs": []
    },
    {
      "cell_type": "code",
      "metadata": {
        "id": "OWTUmG1iREp4"
      },
      "source": [
        "# Create dummy input and target tensors (data)\n",
        "x = torch.randn(batch_size, n_in)\n",
        "y = torch.tensor([[1.0], [0.0], [0.0], [1.0], [1.0], [1.0], [0.0], [0.0], [1.0], [1.0]])"
      ],
      "execution_count": 23,
      "outputs": []
    },
    {
      "cell_type": "code",
      "metadata": {
        "id": "MVSclGxIRI83",
        "colab": {
          "base_uri": "https://localhost:8080/"
        },
        "outputId": "9b96dedf-96b3-47fe-d780-0d253ee663f6"
      },
      "source": [
        "x.shape"
      ],
      "execution_count": 24,
      "outputs": [
        {
          "output_type": "execute_result",
          "data": {
            "text/plain": [
              "torch.Size([10, 10])"
            ]
          },
          "metadata": {},
          "execution_count": 24
        }
      ]
    },
    {
      "cell_type": "code",
      "metadata": {
        "colab": {
          "base_uri": "https://localhost:8080/"
        },
        "id": "JrEGiQDD3BwC",
        "outputId": "8c7a30a3-436f-41c0-a907-b5afa348625c"
      },
      "source": [
        "class Net(torch.nn.Module):\n",
        "    def __init__(self, n_feature, n_hidden, n_output):\n",
        "        super(Net, self).__init__()\n",
        "        self.hidden = torch.nn.Linear(n_feature, n_hidden)   # hidden layer\n",
        "        self.predict = torch.nn.Linear(n_hidden, n_output)   # output layer\n",
        "\n",
        "    def forward(self, x):\n",
        "        x = F.relu(self.hidden(x))      # activation function for hidden layer\n",
        "        x = nn.sigmoid(self.predict(x))  # activation function for output layer\n",
        "        return x\n",
        "\n",
        "model = Net(n_feature=n_in, n_hidden=n_h, n_output=n_out)     # define the network\n",
        "print(model)  # net architecture"
      ],
      "execution_count": 25,
      "outputs": [
        {
          "output_type": "stream",
          "name": "stdout",
          "text": [
            "Net(\n",
            "  (hidden): Linear(in_features=10, out_features=5, bias=True)\n",
            "  (predict): Linear(in_features=5, out_features=1, bias=True)\n",
            ")\n"
          ]
        }
      ]
    },
    {
      "cell_type": "code",
      "metadata": {
        "id": "sHVs_8cfRZKq"
      },
      "source": [
        "# Create a model\n",
        "#model = torch.nn.Sequential(\n",
        "#        torch.nn.Linear(n_in, n_h),\n",
        "#        torch.nn.ReLU(),\n",
        "#        torch.nn.Linear(n_h, n_out),\n",
        "#        torch.nn.Sigmoid())"
      ],
      "execution_count": 26,
      "outputs": []
    },
    {
      "cell_type": "code",
      "metadata": {
        "id": "2ryo_qjnRvh5",
        "colab": {
          "base_uri": "https://localhost:8080/"
        },
        "outputId": "7373f654-6269-49f5-81d5-8d4bb7970ba1"
      },
      "source": [
        "# Construct the loss function\n",
        "criterion = torch.nn.MSELoss()\n",
        "# Construct the optimizer (Stochastic Gradient Descent in this case)\n",
        "optimizer = torch.optim.SGD(model.parameters(), lr=0.01)\n",
        "\n",
        "# Gradient Descent\n",
        "for epoch in range(50):\n",
        "  # Forward pass: Compute predicted y by passing x to the model\n",
        "  y_pred = model(x)\n",
        "  # Compute and print loss\n",
        "  loss = criterion(y_pred, y)\n",
        "  print('epoch: ', epoch,' loss: ', loss.item())\n",
        "  # Zero gradients, perform a backward pass, and update the weights.\n",
        "  optimizer.zero_grad()\n",
        "  # perform a backward pass (backpropagation)\n",
        "  loss.backward()\n",
        "  # Update the parameters\n",
        "  optimizer.step()"
      ],
      "execution_count": 27,
      "outputs": [
        {
          "output_type": "stream",
          "name": "stdout",
          "text": [
            "epoch:  0  loss:  0.2521703243255615\n",
            "epoch:  1  loss:  0.2520715892314911\n",
            "epoch:  2  loss:  0.25197315216064453\n",
            "epoch:  3  loss:  0.251875102519989\n",
            "epoch:  4  loss:  0.2517774701118469\n",
            "epoch:  5  loss:  0.2516801357269287\n",
            "epoch:  6  loss:  0.25158318877220154\n",
            "epoch:  7  loss:  0.251486599445343\n",
            "epoch:  8  loss:  0.2513903081417084\n",
            "epoch:  9  loss:  0.25129440426826477\n",
            "epoch:  10  loss:  0.25119879841804504\n",
            "epoch:  11  loss:  0.25110357999801636\n",
            "epoch:  12  loss:  0.25100865960121155\n",
            "epoch:  13  loss:  0.2509140968322754\n",
            "epoch:  14  loss:  0.2508198618888855\n",
            "epoch:  15  loss:  0.25072595477104187\n",
            "epoch:  16  loss:  0.2506323754787445\n",
            "epoch:  17  loss:  0.2505391538143158\n",
            "epoch:  18  loss:  0.2504462003707886\n",
            "epoch:  19  loss:  0.25035360455513\n",
            "epoch:  20  loss:  0.2502613067626953\n",
            "epoch:  21  loss:  0.2501693367958069\n",
            "epoch:  22  loss:  0.2500776946544647\n",
            "epoch:  23  loss:  0.24998638033866882\n",
            "epoch:  24  loss:  0.2498953640460968\n",
            "epoch:  25  loss:  0.24980461597442627\n",
            "epoch:  26  loss:  0.2497142106294632\n",
            "epoch:  27  loss:  0.249624103307724\n",
            "epoch:  28  loss:  0.24953429400920868\n",
            "epoch:  29  loss:  0.24944476783275604\n",
            "epoch:  30  loss:  0.2493555247783661\n",
            "epoch:  31  loss:  0.24926665425300598\n",
            "epoch:  32  loss:  0.24917802214622498\n",
            "epoch:  33  loss:  0.24908968806266785\n",
            "epoch:  34  loss:  0.2490016520023346\n",
            "epoch:  35  loss:  0.24891388416290283\n",
            "epoch:  36  loss:  0.24882642924785614\n",
            "epoch:  37  loss:  0.24873921275138855\n",
            "epoch:  38  loss:  0.24865233898162842\n",
            "epoch:  39  loss:  0.248565673828125\n",
            "epoch:  40  loss:  0.24847933650016785\n",
            "epoch:  41  loss:  0.2483932226896286\n",
            "epoch:  42  loss:  0.248307466506958\n",
            "epoch:  43  loss:  0.24822190403938293\n",
            "epoch:  44  loss:  0.24813663959503174\n",
            "epoch:  45  loss:  0.24805164337158203\n",
            "epoch:  46  loss:  0.247966930270195\n",
            "epoch:  47  loss:  0.24788245558738708\n",
            "epoch:  48  loss:  0.24779824912548065\n",
            "epoch:  49  loss:  0.24771428108215332\n"
          ]
        }
      ]
    },
    {
      "cell_type": "markdown",
      "metadata": {
        "id": "zncNhVSl43RS"
      },
      "source": [
        "**Save and load model**"
      ]
    },
    {
      "cell_type": "code",
      "metadata": {
        "id": "zF0HlQVo47i-"
      },
      "source": [
        "# Save whole net \n",
        "torch.save(model, 'model.pkl')\n",
        "\n",
        "# Save parameters only\n",
        "torch.save(model.state_dict(), 'model_params.pkl')"
      ],
      "execution_count": 28,
      "outputs": []
    },
    {
      "cell_type": "code",
      "metadata": {
        "colab": {
          "base_uri": "https://localhost:8080/"
        },
        "id": "ijrmb-5y5S-v",
        "outputId": "3a665944-b00a-4b43-adf2-b85b7c1dec15"
      },
      "source": [
        "# Load whole net \n",
        "model = torch.load('model.pkl')\n",
        "\n",
        "# Save parameters only\n",
        "model.load_state_dict(torch.load('model_params.pkl'))"
      ],
      "execution_count": 29,
      "outputs": [
        {
          "output_type": "execute_result",
          "data": {
            "text/plain": [
              "<All keys matched successfully>"
            ]
          },
          "metadata": {},
          "execution_count": 29
        }
      ]
    },
    {
      "cell_type": "markdown",
      "metadata": {
        "id": "KOn2aKMXTwJT"
      },
      "source": [
        "Reference:\n",
        "* https://pytorch.org/tutorials/beginner/examples_nn/two_layer_net_nn.html\n",
        "* https://www.kaggle.com/kanncaa1/pytorch-tutorial-for-deep-learning-lovers"
      ]
    }
  ]
}